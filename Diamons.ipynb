{
 "cells": [
  {
   "cell_type": "markdown",
   "metadata": {},
   "source": [
    "# DIAMONS PRICE PREDICTION"
   ]
  },
  {
   "cell_type": "code",
   "execution_count": 1,
   "metadata": {},
   "outputs": [],
   "source": [
    "import pandas as pd\n",
    "from sklearn.metrics import mean_squared_error \n",
    "import numpy as np\n",
    "import matplotlib.pyplot as plt\n",
    "from sklearn.preprocessing import StandardScaler, Normalizer\n",
    "from sklearn.pipeline import make_pipeline\n",
    "from sklearn.ensemble import RandomForestRegressor\n",
    "from sklearn.feature_selection import RFECV\n",
    "from sklearn.model_selection import train_test_split\n",
    "import seaborn as sns\n",
    "from h2o.estimators.gbm import H2OGradientBoostingEstimator\n",
    "import h2o\n",
    "from h2o.estimators import H2ORandomForestEstimator\n",
    "from sklearn.preprocessing import StandardScaler\n",
    "from cleaning import clean_data"
   ]
  },
  {
   "cell_type": "code",
   "execution_count": 2,
   "metadata": {},
   "outputs": [],
   "source": [
    "diamons = pd.read_csv('INPUT/diamonds_train.csv')"
   ]
  },
  {
   "cell_type": "markdown",
   "metadata": {},
   "source": [
    "## Data Visualization and pre-processing"
   ]
  },
  {
   "cell_type": "code",
   "execution_count": 3,
   "metadata": {},
   "outputs": [
    {
     "data": {
      "text/html": [
       "<div>\n",
       "<style scoped>\n",
       "    .dataframe tbody tr th:only-of-type {\n",
       "        vertical-align: middle;\n",
       "    }\n",
       "\n",
       "    .dataframe tbody tr th {\n",
       "        vertical-align: top;\n",
       "    }\n",
       "\n",
       "    .dataframe thead th {\n",
       "        text-align: right;\n",
       "    }\n",
       "</style>\n",
       "<table border=\"1\" class=\"dataframe\">\n",
       "  <thead>\n",
       "    <tr style=\"text-align: right;\">\n",
       "      <th></th>\n",
       "      <th>id</th>\n",
       "      <th>carat</th>\n",
       "      <th>cut</th>\n",
       "      <th>color</th>\n",
       "      <th>clarity</th>\n",
       "      <th>depth</th>\n",
       "      <th>table</th>\n",
       "      <th>x</th>\n",
       "      <th>y</th>\n",
       "      <th>z</th>\n",
       "      <th>price</th>\n",
       "    </tr>\n",
       "  </thead>\n",
       "  <tbody>\n",
       "    <tr>\n",
       "      <th>0</th>\n",
       "      <td>0</td>\n",
       "      <td>0.78</td>\n",
       "      <td>Premium</td>\n",
       "      <td>F</td>\n",
       "      <td>VS1</td>\n",
       "      <td>61.5</td>\n",
       "      <td>58.0</td>\n",
       "      <td>5.93</td>\n",
       "      <td>5.98</td>\n",
       "      <td>3.66</td>\n",
       "      <td>3446</td>\n",
       "    </tr>\n",
       "    <tr>\n",
       "      <th>1</th>\n",
       "      <td>1</td>\n",
       "      <td>0.31</td>\n",
       "      <td>Ideal</td>\n",
       "      <td>D</td>\n",
       "      <td>SI1</td>\n",
       "      <td>60.8</td>\n",
       "      <td>56.0</td>\n",
       "      <td>4.37</td>\n",
       "      <td>4.32</td>\n",
       "      <td>2.64</td>\n",
       "      <td>732</td>\n",
       "    </tr>\n",
       "    <tr>\n",
       "      <th>2</th>\n",
       "      <td>2</td>\n",
       "      <td>0.30</td>\n",
       "      <td>Ideal</td>\n",
       "      <td>F</td>\n",
       "      <td>SI1</td>\n",
       "      <td>62.3</td>\n",
       "      <td>54.0</td>\n",
       "      <td>4.30</td>\n",
       "      <td>4.34</td>\n",
       "      <td>2.69</td>\n",
       "      <td>475</td>\n",
       "    </tr>\n",
       "    <tr>\n",
       "      <th>3</th>\n",
       "      <td>3</td>\n",
       "      <td>1.04</td>\n",
       "      <td>Ideal</td>\n",
       "      <td>E</td>\n",
       "      <td>VVS2</td>\n",
       "      <td>62.0</td>\n",
       "      <td>58.0</td>\n",
       "      <td>6.54</td>\n",
       "      <td>6.46</td>\n",
       "      <td>4.03</td>\n",
       "      <td>9552</td>\n",
       "    </tr>\n",
       "    <tr>\n",
       "      <th>4</th>\n",
       "      <td>4</td>\n",
       "      <td>0.65</td>\n",
       "      <td>Ideal</td>\n",
       "      <td>J</td>\n",
       "      <td>SI1</td>\n",
       "      <td>61.4</td>\n",
       "      <td>55.0</td>\n",
       "      <td>5.58</td>\n",
       "      <td>5.62</td>\n",
       "      <td>3.44</td>\n",
       "      <td>1276</td>\n",
       "    </tr>\n",
       "  </tbody>\n",
       "</table>\n",
       "</div>"
      ],
      "text/plain": [
       "   id  carat      cut color clarity  depth  table     x     y     z  price\n",
       "0   0   0.78  Premium     F     VS1   61.5   58.0  5.93  5.98  3.66   3446\n",
       "1   1   0.31    Ideal     D     SI1   60.8   56.0  4.37  4.32  2.64    732\n",
       "2   2   0.30    Ideal     F     SI1   62.3   54.0  4.30  4.34  2.69    475\n",
       "3   3   1.04    Ideal     E    VVS2   62.0   58.0  6.54  6.46  4.03   9552\n",
       "4   4   0.65    Ideal     J     SI1   61.4   55.0  5.58  5.62  3.44   1276"
      ]
     },
     "execution_count": 3,
     "metadata": {},
     "output_type": "execute_result"
    }
   ],
   "source": [
    "diamons.head()"
   ]
  },
  {
   "cell_type": "code",
   "execution_count": 4,
   "metadata": {},
   "outputs": [
    {
     "data": {
      "text/plain": [
       "id           int64\n",
       "carat      float64\n",
       "cut         object\n",
       "color       object\n",
       "clarity     object\n",
       "depth      float64\n",
       "table      float64\n",
       "x          float64\n",
       "y          float64\n",
       "z          float64\n",
       "price        int64\n",
       "dtype: object"
      ]
     },
     "execution_count": 4,
     "metadata": {},
     "output_type": "execute_result"
    }
   ],
   "source": [
    "diamons.dtypes"
   ]
  },
  {
   "cell_type": "code",
   "execution_count": 5,
   "metadata": {},
   "outputs": [
    {
     "data": {
      "text/plain": [
       "id         0\n",
       "carat      0\n",
       "cut        0\n",
       "color      0\n",
       "clarity    0\n",
       "depth      0\n",
       "table      0\n",
       "x          0\n",
       "y          0\n",
       "z          0\n",
       "price      0\n",
       "dtype: int64"
      ]
     },
     "execution_count": 5,
     "metadata": {},
     "output_type": "execute_result"
    }
   ],
   "source": [
    "# No hay valores nulos\n",
    "diamons.isnull().sum()"
   ]
  },
  {
   "cell_type": "code",
   "execution_count": 6,
   "metadata": {},
   "outputs": [
    {
     "data": {
      "text/plain": [
       "SI1     9710\n",
       "VS2     9164\n",
       "SI2     6884\n",
       "VS1     6092\n",
       "VVS2    3839\n",
       "VVS1    2738\n",
       "IF      1357\n",
       "I1       561\n",
       "Name: clarity, dtype: int64"
      ]
     },
     "execution_count": 6,
     "metadata": {},
     "output_type": "execute_result"
    }
   ],
   "source": [
    "# Ver cuantas categorias hay en clarity \n",
    "diamons.clarity.value_counts()"
   ]
  },
  {
   "cell_type": "code",
   "execution_count": 7,
   "metadata": {},
   "outputs": [
    {
     "data": {
      "text/plain": [
       "G    8462\n",
       "E    7292\n",
       "F    7133\n",
       "H    6200\n",
       "D    5094\n",
       "I    4094\n",
       "J    2070\n",
       "Name: color, dtype: int64"
      ]
     },
     "execution_count": 7,
     "metadata": {},
     "output_type": "execute_result"
    }
   ],
   "source": [
    "# Ver cuantas categorias hay en color\n",
    "diamons.color.value_counts()"
   ]
  },
  {
   "cell_type": "code",
   "execution_count": 8,
   "metadata": {},
   "outputs": [
    {
     "data": {
      "text/plain": [
       "Ideal        16141\n",
       "Premium      10303\n",
       "Very Good     9068\n",
       "Good          3631\n",
       "Fair          1202\n",
       "Name: cut, dtype: int64"
      ]
     },
     "execution_count": 8,
     "metadata": {},
     "output_type": "execute_result"
    }
   ],
   "source": [
    "# Ver cuantas categorias hay en cut\n",
    "diamons.cut.value_counts()"
   ]
  },
  {
   "cell_type": "markdown",
   "metadata": {},
   "source": [
    "Hacemos la correlacion entre las distintas features para comprobar si conviene eliminar alguna"
   ]
  },
  {
   "cell_type": "code",
   "execution_count": 9,
   "metadata": {},
   "outputs": [
    {
     "data": {
      "text/plain": [
       "<matplotlib.axes._subplots.AxesSubplot at 0x7feb58c49fd0>"
      ]
     },
     "execution_count": 9,
     "metadata": {},
     "output_type": "execute_result"
    },
    {
     "data": {
      "image/png": "[encoded data removed]",
      "text/plain": [
       "<Figure size 432x288 with 2 Axes>"
      ]
     },
     "metadata": {
      "needs_background": "light"
     },
     "output_type": "display_data"
    }
   ],
   "source": [
    "c=diamons.corr()\n",
    "sns.heatmap(c, annot=True)"
   ]
  },
  {
   "cell_type": "markdown",
   "metadata": {},
   "source": [
    "Observamos que carat, x, y, z estan muy relacionadas entre si por lo que nos quedamos solo con carat que es la que mayor relación tiene con price"
   ]
  },
  {
   "cell_type": "code",
   "execution_count": 10,
   "metadata": {},
   "outputs": [],
   "source": [
    "diamons.drop(columns=['id','y','z','x','depth','table'], inplace=True)"
   ]
  },
  {
   "cell_type": "markdown",
   "metadata": {},
   "source": [
    "Modificamos las columnas de tipo object. Consideramos que son ordinales y no totalmente independiente entre ellas por lo que asignamos un valor propocional a cada una"
   ]
  },
  {
   "cell_type": "code",
   "execution_count": 11,
   "metadata": {},
   "outputs": [
    {
     "data": {
      "text/html": [
       "<div>\n",
       "<style scoped>\n",
       "    .dataframe tbody tr th:only-of-type {\n",
       "        vertical-align: middle;\n",
       "    }\n",
       "\n",
       "    .dataframe tbody tr th {\n",
       "        vertical-align: top;\n",
       "    }\n",
       "\n",
       "    .dataframe thead th {\n",
       "        text-align: right;\n",
       "    }\n",
       "</style>\n",
       "<table border=\"1\" class=\"dataframe\">\n",
       "  <thead>\n",
       "    <tr style=\"text-align: right;\">\n",
       "      <th></th>\n",
       "      <th>carat</th>\n",
       "      <th>cut</th>\n",
       "      <th>color</th>\n",
       "      <th>clarity</th>\n",
       "      <th>price</th>\n",
       "    </tr>\n",
       "  </thead>\n",
       "  <tbody>\n",
       "    <tr>\n",
       "      <th>0</th>\n",
       "      <td>0.78</td>\n",
       "      <td>5</td>\n",
       "      <td>5</td>\n",
       "      <td>5</td>\n",
       "      <td>3446</td>\n",
       "    </tr>\n",
       "    <tr>\n",
       "      <th>1</th>\n",
       "      <td>0.31</td>\n",
       "      <td>4</td>\n",
       "      <td>7</td>\n",
       "      <td>3</td>\n",
       "      <td>732</td>\n",
       "    </tr>\n",
       "    <tr>\n",
       "      <th>2</th>\n",
       "      <td>0.30</td>\n",
       "      <td>4</td>\n",
       "      <td>5</td>\n",
       "      <td>3</td>\n",
       "      <td>475</td>\n",
       "    </tr>\n",
       "    <tr>\n",
       "      <th>3</th>\n",
       "      <td>1.04</td>\n",
       "      <td>4</td>\n",
       "      <td>6</td>\n",
       "      <td>6</td>\n",
       "      <td>9552</td>\n",
       "    </tr>\n",
       "    <tr>\n",
       "      <th>4</th>\n",
       "      <td>0.65</td>\n",
       "      <td>4</td>\n",
       "      <td>1</td>\n",
       "      <td>3</td>\n",
       "      <td>1276</td>\n",
       "    </tr>\n",
       "  </tbody>\n",
       "</table>\n",
       "</div>"
      ],
      "text/plain": [
       "   carat  cut  color  clarity  price\n",
       "0   0.78    5      5        5   3446\n",
       "1   0.31    4      7        3    732\n",
       "2   0.30    4      5        3    475\n",
       "3   1.04    4      6        6   9552\n",
       "4   0.65    4      1        3   1276"
      ]
     },
     "execution_count": 11,
     "metadata": {},
     "output_type": "execute_result"
    }
   ],
   "source": [
    "diamons=clean_data(diamons)\n",
    "diamons.head()"
   ]
  },
  {
   "cell_type": "markdown",
   "metadata": {},
   "source": [
    "Estandarizamos las features "
   ]
  },
  {
   "cell_type": "code",
   "execution_count": 12,
   "metadata": {},
   "outputs": [
    {
     "data": {
      "text/html": [
       "<div>\n",
       "<style scoped>\n",
       "    .dataframe tbody tr th:only-of-type {\n",
       "        vertical-align: middle;\n",
       "    }\n",
       "\n",
       "    .dataframe tbody tr th {\n",
       "        vertical-align: top;\n",
       "    }\n",
       "\n",
       "    .dataframe thead th {\n",
       "        text-align: right;\n",
       "    }\n",
       "</style>\n",
       "<table border=\"1\" class=\"dataframe\">\n",
       "  <thead>\n",
       "    <tr style=\"text-align: right;\">\n",
       "      <th></th>\n",
       "      <th>carat</th>\n",
       "      <th>cut</th>\n",
       "      <th>color</th>\n",
       "      <th>clarity</th>\n",
       "    </tr>\n",
       "  </thead>\n",
       "  <tbody>\n",
       "    <tr>\n",
       "      <th>0</th>\n",
       "      <td>-0.037316</td>\n",
       "      <td>1.208188</td>\n",
       "      <td>0.348974</td>\n",
       "      <td>0.571902</td>\n",
       "    </tr>\n",
       "    <tr>\n",
       "      <th>1</th>\n",
       "      <td>-1.028243</td>\n",
       "      <td>0.232872</td>\n",
       "      <td>1.524998</td>\n",
       "      <td>-0.639490</td>\n",
       "    </tr>\n",
       "    <tr>\n",
       "      <th>2</th>\n",
       "      <td>-1.049327</td>\n",
       "      <td>0.232872</td>\n",
       "      <td>0.348974</td>\n",
       "      <td>-0.639490</td>\n",
       "    </tr>\n",
       "    <tr>\n",
       "      <th>3</th>\n",
       "      <td>0.510857</td>\n",
       "      <td>0.232872</td>\n",
       "      <td>0.936986</td>\n",
       "      <td>1.177599</td>\n",
       "    </tr>\n",
       "    <tr>\n",
       "      <th>4</th>\n",
       "      <td>-0.311402</td>\n",
       "      <td>0.232872</td>\n",
       "      <td>-2.003073</td>\n",
       "      <td>-0.639490</td>\n",
       "    </tr>\n",
       "  </tbody>\n",
       "</table>\n",
       "</div>"
      ],
      "text/plain": [
       "      carat       cut     color   clarity\n",
       "0 -0.037316  1.208188  0.348974  0.571902\n",
       "1 -1.028243  0.232872  1.524998 -0.639490\n",
       "2 -1.049327  0.232872  0.348974 -0.639490\n",
       "3  0.510857  0.232872  0.936986  1.177599\n",
       "4 -0.311402  0.232872 -2.003073 -0.639490"
      ]
     },
     "execution_count": 12,
     "metadata": {},
     "output_type": "execute_result"
    }
   ],
   "source": [
    "X = diamons.drop(columns=[\"price\"])\n",
    "y = diamons['price']\n",
    "tr = StandardScaler()\n",
    "Xpr = tr.fit_transform(X)\n",
    "Xpr = pd.DataFrame(Xpr,columns=X.columns)\n",
    "Xpr.head()"
   ]
  },
  {
   "cell_type": "markdown",
   "metadata": {},
   "source": [
    "Presentamos nuestro dataframe final con el que vamos a entrenar el modelo "
   ]
  },
  {
   "cell_type": "code",
   "execution_count": 13,
   "metadata": {},
   "outputs": [
    {
     "data": {
      "text/html": [
       "<div>\n",
       "<style scoped>\n",
       "    .dataframe tbody tr th:only-of-type {\n",
       "        vertical-align: middle;\n",
       "    }\n",
       "\n",
       "    .dataframe tbody tr th {\n",
       "        vertical-align: top;\n",
       "    }\n",
       "\n",
       "    .dataframe thead th {\n",
       "        text-align: right;\n",
       "    }\n",
       "</style>\n",
       "<table border=\"1\" class=\"dataframe\">\n",
       "  <thead>\n",
       "    <tr style=\"text-align: right;\">\n",
       "      <th></th>\n",
       "      <th>carat</th>\n",
       "      <th>cut</th>\n",
       "      <th>color</th>\n",
       "      <th>clarity</th>\n",
       "      <th>price</th>\n",
       "    </tr>\n",
       "  </thead>\n",
       "  <tbody>\n",
       "    <tr>\n",
       "      <th>0</th>\n",
       "      <td>-0.037316</td>\n",
       "      <td>1.208188</td>\n",
       "      <td>0.348974</td>\n",
       "      <td>0.571902</td>\n",
       "      <td>3446</td>\n",
       "    </tr>\n",
       "    <tr>\n",
       "      <th>1</th>\n",
       "      <td>-1.028243</td>\n",
       "      <td>0.232872</td>\n",
       "      <td>1.524998</td>\n",
       "      <td>-0.639490</td>\n",
       "      <td>732</td>\n",
       "    </tr>\n",
       "    <tr>\n",
       "      <th>2</th>\n",
       "      <td>-1.049327</td>\n",
       "      <td>0.232872</td>\n",
       "      <td>0.348974</td>\n",
       "      <td>-0.639490</td>\n",
       "      <td>475</td>\n",
       "    </tr>\n",
       "    <tr>\n",
       "      <th>3</th>\n",
       "      <td>0.510857</td>\n",
       "      <td>0.232872</td>\n",
       "      <td>0.936986</td>\n",
       "      <td>1.177599</td>\n",
       "      <td>9552</td>\n",
       "    </tr>\n",
       "    <tr>\n",
       "      <th>4</th>\n",
       "      <td>-0.311402</td>\n",
       "      <td>0.232872</td>\n",
       "      <td>-2.003073</td>\n",
       "      <td>-0.639490</td>\n",
       "      <td>1276</td>\n",
       "    </tr>\n",
       "  </tbody>\n",
       "</table>\n",
       "</div>"
      ],
      "text/plain": [
       "      carat       cut     color   clarity  price\n",
       "0 -0.037316  1.208188  0.348974  0.571902   3446\n",
       "1 -1.028243  0.232872  1.524998 -0.639490    732\n",
       "2 -1.049327  0.232872  0.348974 -0.639490    475\n",
       "3  0.510857  0.232872  0.936986  1.177599   9552\n",
       "4 -0.311402  0.232872 -2.003073 -0.639490   1276"
      ]
     },
     "execution_count": 13,
     "metadata": {},
     "output_type": "execute_result"
    }
   ],
   "source": [
    "diamons_n = pd.concat([Xpr,y], axis=1, sort =False)\n",
    "diamons_n.head()"
   ]
  },
  {
   "cell_type": "markdown",
   "metadata": {},
   "source": [
    "## RANDOM FOREST SKLEARN"
   ]
  },
  {
   "cell_type": "code",
   "execution_count": 14,
   "metadata": {},
   "outputs": [
    {
     "data": {
      "text/html": [
       "<div>\n",
       "<style scoped>\n",
       "    .dataframe tbody tr th:only-of-type {\n",
       "        vertical-align: middle;\n",
       "    }\n",
       "\n",
       "    .dataframe tbody tr th {\n",
       "        vertical-align: top;\n",
       "    }\n",
       "\n",
       "    .dataframe thead th {\n",
       "        text-align: right;\n",
       "    }\n",
       "</style>\n",
       "<table border=\"1\" class=\"dataframe\">\n",
       "  <thead>\n",
       "    <tr style=\"text-align: right;\">\n",
       "      <th></th>\n",
       "      <th>carat</th>\n",
       "      <th>cut</th>\n",
       "      <th>color</th>\n",
       "      <th>clarity</th>\n",
       "    </tr>\n",
       "  </thead>\n",
       "  <tbody>\n",
       "    <tr>\n",
       "      <th>11278</th>\n",
       "      <td>-0.838491</td>\n",
       "      <td>0.232872</td>\n",
       "      <td>-0.239038</td>\n",
       "      <td>2.388991</td>\n",
       "    </tr>\n",
       "    <tr>\n",
       "      <th>23385</th>\n",
       "      <td>-0.458987</td>\n",
       "      <td>1.208188</td>\n",
       "      <td>1.524998</td>\n",
       "      <td>0.571902</td>\n",
       "    </tr>\n",
       "    <tr>\n",
       "      <th>4413</th>\n",
       "      <td>-1.049327</td>\n",
       "      <td>0.232872</td>\n",
       "      <td>-0.239038</td>\n",
       "      <td>-0.639490</td>\n",
       "    </tr>\n",
       "    <tr>\n",
       "      <th>31550</th>\n",
       "      <td>-0.458987</td>\n",
       "      <td>0.232872</td>\n",
       "      <td>0.348974</td>\n",
       "      <td>0.571902</td>\n",
       "    </tr>\n",
       "    <tr>\n",
       "      <th>21367</th>\n",
       "      <td>2.893299</td>\n",
       "      <td>1.208188</td>\n",
       "      <td>0.348974</td>\n",
       "      <td>-1.245187</td>\n",
       "    </tr>\n",
       "  </tbody>\n",
       "</table>\n",
       "</div>"
      ],
      "text/plain": [
       "          carat       cut     color   clarity\n",
       "11278 -0.838491  0.232872 -0.239038  2.388991\n",
       "23385 -0.458987  1.208188  1.524998  0.571902\n",
       "4413  -1.049327  0.232872 -0.239038 -0.639490\n",
       "31550 -0.458987  0.232872  0.348974  0.571902\n",
       "21367  2.893299  1.208188  0.348974 -1.245187"
      ]
     },
     "execution_count": 14,
     "metadata": {},
     "output_type": "execute_result"
    }
   ],
   "source": [
    "X_train, X_test, y_train, y_test = train_test_split(Xpr, y, test_size=0.2)\n",
    "X_train.head()"
   ]
  },
  {
   "cell_type": "code",
   "execution_count": 15,
   "metadata": {},
   "outputs": [],
   "source": [
    "rf_reg = RandomForestRegressor(n_estimators=150, max_depth=15, min_samples_leaf=5, random_state=111)"
   ]
  },
  {
   "cell_type": "code",
   "execution_count": 16,
   "metadata": {},
   "outputs": [],
   "source": [
    "rf_reg.fit(X_train, y_train)\n",
    "y_pred = rf_reg.predict(X_test)"
   ]
  },
  {
   "cell_type": "code",
   "execution_count": 17,
   "metadata": {},
   "outputs": [
    {
     "name": "stdout",
     "output_type": "stream",
     "text": [
      "RMSE 555.9967890108044\n"
     ]
    }
   ],
   "source": [
    "print('RMSE', np.sqrt(mean_squared_error(y_test, y_pred)))"
   ]
  },
  {
   "cell_type": "code",
   "execution_count": 18,
   "metadata": {},
   "outputs": [],
   "source": [
    "final = pd.DataFrame(y_pred, columns=['price'])"
   ]
  },
  {
   "cell_type": "code",
   "execution_count": 19,
   "metadata": {},
   "outputs": [
    {
     "data": {
      "text/plain": [
       "<matplotlib.collections.PathCollection at 0x7feb51e0a4d0>"
      ]
     },
     "execution_count": 19,
     "metadata": {},
     "output_type": "execute_result"
    },
    {
     "data": {
      "image/png": "[encoded data removed]",
      "text/plain": [
       "<Figure size 432x288 with 1 Axes>"
      ]
     },
     "metadata": {
      "needs_background": "light"
     },
     "output_type": "display_data"
    }
   ],
   "source": [
    "fig, ax = plt.subplots()\n",
    "ax.scatter(y_test, y_pred, edgecolors=(0, 0, 0))"
   ]
  },
  {
   "cell_type": "markdown",
   "metadata": {},
   "source": [
    "## RANDOM FOREST H20"
   ]
  },
  {
   "cell_type": "code",
   "execution_count": 20,
   "metadata": {},
   "outputs": [
    {
     "name": "stdout",
     "output_type": "stream",
     "text": [
      "Checking whether there is an H2O instance running at http://127.0.0.1:8080 . connected.\n"
     ]
    },
    {
     "data": {
      "text/html": [
       "<div style=\"overflow:auto\"><table style=\"width:50%\"><tr><td>H2O cluster uptime:</td>\n",
       "<td>1 min 34 secs</td></tr>\n",
       "<tr><td>H2O cluster timezone:</td>\n",
       "<td>Europe/Madrid</td></tr>\n",
       "<tr><td>H2O data parsing timezone:</td>\n",
       "<td>UTC</td></tr>\n",
       "<tr><td>H2O cluster version:</td>\n",
       "<td>3.28.0.3</td></tr>\n",
       "<tr><td>H2O cluster version age:</td>\n",
       "<td>25 days </td></tr>\n",
       "<tr><td>H2O cluster name:</td>\n",
       "<td>H2O_from_python_elisa_b0gkx9</td></tr>\n",
       "<tr><td>H2O cluster total nodes:</td>\n",
       "<td>1</td></tr>\n",
       "<tr><td>H2O cluster free memory:</td>\n",
       "<td>3.640 Gb</td></tr>\n",
       "<tr><td>H2O cluster total cores:</td>\n",
       "<td>4</td></tr>\n",
       "<tr><td>H2O cluster allowed cores:</td>\n",
       "<td>4</td></tr>\n",
       "<tr><td>H2O cluster status:</td>\n",
       "<td>locked, healthy</td></tr>\n",
       "<tr><td>H2O connection url:</td>\n",
       "<td>http://127.0.0.1:8080</td></tr>\n",
       "<tr><td>H2O connection proxy:</td>\n",
       "<td>{'http': None, 'https': None}</td></tr>\n",
       "<tr><td>H2O internal security:</td>\n",
       "<td>False</td></tr>\n",
       "<tr><td>H2O API Extensions:</td>\n",
       "<td>Amazon S3, XGBoost, Algos, AutoML, Core V3, TargetEncoder, Core V4</td></tr>\n",
       "<tr><td>Python version:</td>\n",
       "<td>3.7.5 final</td></tr></table></div>"
      ],
      "text/plain": [
       "--------------------------  ------------------------------------------------------------------\n",
       "H2O cluster uptime:         1 min 34 secs\n",
       "H2O cluster timezone:       Europe/Madrid\n",
       "H2O data parsing timezone:  UTC\n",
       "H2O cluster version:        3.28.0.3\n",
       "H2O cluster version age:    25 days\n",
       "H2O cluster name:           H2O_from_python_elisa_b0gkx9\n",
       "H2O cluster total nodes:    1\n",
       "H2O cluster free memory:    3.640 Gb\n",
       "H2O cluster total cores:    4\n",
       "H2O cluster allowed cores:  4\n",
       "H2O cluster status:         locked, healthy\n",
       "H2O connection url:         http://127.0.0.1:8080\n",
       "H2O connection proxy:       {'http': None, 'https': None}\n",
       "H2O internal security:      False\n",
       "H2O API Extensions:         Amazon S3, XGBoost, Algos, AutoML, Core V3, TargetEncoder, Core V4\n",
       "Python version:             3.7.5 final\n",
       "--------------------------  ------------------------------------------------------------------"
      ]
     },
     "metadata": {},
     "output_type": "display_data"
    },
    {
     "name": "stdout",
     "output_type": "stream",
     "text": [
      "Parse progress: |█████████████████████████████████████████████████████████| 100%\n",
      "drf Model Build progress: |███████████████████████████████████████████████| 100%\n"
     ]
    }
   ],
   "source": [
    "h2o.init(ip=\"127.0.0.1\", port=\"8080\")\n",
    "data = h2o.H2OFrame(diamons_n)\n",
    "# Input parameters that are going to train\n",
    "training_columns = ['carat', 'cut', 'color','clarity']\n",
    "# Output parameter train against input parameters\n",
    "response_column = 'price'\n",
    "train, test = data.split_frame(ratios=[0.8])\n",
    "model = H2ORandomForestEstimator(ntrees=200, max_depth=20, nfolds=20)\n",
    "model.train(x=training_columns, y=response_column, training_frame=train)\n",
    "performance = model.model_performance(test_data=test)"
   ]
  },
  {
   "cell_type": "code",
   "execution_count": 21,
   "metadata": {},
   "outputs": [
    {
     "name": "stdout",
     "output_type": "stream",
     "text": [
      "\n",
      "ModelMetricsRegression: drf\n",
      "** Reported on test data. **\n",
      "\n",
      "MSE: 1865111.8263253388\n",
      "RMSE: 1365.6909702876924\n",
      "MAE: 904.2048462598441\n",
      "RMSLE: 0.5277545093921402\n",
      "Mean Residual Deviance: 1865111.8263253388\n"
     ]
    },
    {
     "data": {
      "text/plain": []
     },
     "execution_count": 21,
     "metadata": {},
     "output_type": "execute_result"
    }
   ],
   "source": [
    "performance"
   ]
  },
  {
   "cell_type": "markdown",
   "metadata": {},
   "source": [
    "## H2O XGBoost Estimator"
   ]
  },
  {
   "cell_type": "code",
   "execution_count": 22,
   "metadata": {},
   "outputs": [
    {
     "name": "stdout",
     "output_type": "stream",
     "text": [
      "xgboost Model Build progress: |███████████████████████████████████████████| 100%\n",
      "xgboost prediction progress: |████████████████████████████████████████████| 100%\n",
      "Model Details\n",
      "=============\n",
      "H2OXGBoostEstimator :  XGBoost\n",
      "Model Key:  XGBoost_model_python_1583142833048_3\n",
      "\n",
      "\n",
      "Model Summary: \n"
     ]
    },
    {
     "data": {
      "text/html": [
       "<div>\n",
       "<style scoped>\n",
       "    .dataframe tbody tr th:only-of-type {\n",
       "        vertical-align: middle;\n",
       "    }\n",
       "\n",
       "    .dataframe tbody tr th {\n",
       "        vertical-align: top;\n",
       "    }\n",
       "\n",
       "    .dataframe thead th {\n",
       "        text-align: right;\n",
       "    }\n",
       "</style>\n",
       "<table border=\"1\" class=\"dataframe\">\n",
       "  <thead>\n",
       "    <tr style=\"text-align: right;\">\n",
       "      <th></th>\n",
       "      <th></th>\n",
       "      <th>number_of_trees</th>\n",
       "    </tr>\n",
       "  </thead>\n",
       "  <tbody>\n",
       "    <tr>\n",
       "      <th>0</th>\n",
       "      <td></td>\n",
       "      <td>50.0</td>\n",
       "    </tr>\n",
       "  </tbody>\n",
       "</table>\n",
       "</div>"
      ],
      "text/plain": [
       "     number_of_trees\n",
       "0               50.0"
      ]
     },
     "metadata": {},
     "output_type": "display_data"
    },
    {
     "name": "stdout",
     "output_type": "stream",
     "text": [
      "\n",
      "\n",
      "ModelMetricsRegression: xgboost\n",
      "** Reported on train data. **\n",
      "\n",
      "MSE: 240114.59242245057\n",
      "RMSE: 490.0148900007535\n",
      "MAE: 262.89103135962256\n",
      "RMSLE: 0.09952763710117662\n",
      "Mean Residual Deviance: 240114.59242245057\n",
      "\n",
      "Scoring History: \n"
     ]
    },
    {
     "data": {
      "text/html": [
       "<div>\n",
       "<style scoped>\n",
       "    .dataframe tbody tr th:only-of-type {\n",
       "        vertical-align: middle;\n",
       "    }\n",
       "\n",
       "    .dataframe tbody tr th {\n",
       "        vertical-align: top;\n",
       "    }\n",
       "\n",
       "    .dataframe thead th {\n",
       "        text-align: right;\n",
       "    }\n",
       "</style>\n",
       "<table border=\"1\" class=\"dataframe\">\n",
       "  <thead>\n",
       "    <tr style=\"text-align: right;\">\n",
       "      <th></th>\n",
       "      <th></th>\n",
       "      <th>timestamp</th>\n",
       "      <th>duration</th>\n",
       "      <th>number_of_trees</th>\n",
       "      <th>training_rmse</th>\n",
       "      <th>training_mae</th>\n",
       "      <th>training_deviance</th>\n",
       "    </tr>\n",
       "  </thead>\n",
       "  <tbody>\n",
       "    <tr>\n",
       "      <th>0</th>\n",
       "      <td></td>\n",
       "      <td>2020-03-02 10:57:31</td>\n",
       "      <td>0.023 sec</td>\n",
       "      <td>0.0</td>\n",
       "      <td>5610.921789</td>\n",
       "      <td>3940.448582</td>\n",
       "      <td>3.148244e+07</td>\n",
       "    </tr>\n",
       "    <tr>\n",
       "      <th>1</th>\n",
       "      <td></td>\n",
       "      <td>2020-03-02 10:57:31</td>\n",
       "      <td>0.491 sec</td>\n",
       "      <td>1.0</td>\n",
       "      <td>3976.490313</td>\n",
       "      <td>2761.240518</td>\n",
       "      <td>1.581248e+07</td>\n",
       "    </tr>\n",
       "    <tr>\n",
       "      <th>2</th>\n",
       "      <td></td>\n",
       "      <td>2020-03-02 10:57:31</td>\n",
       "      <td>0.584 sec</td>\n",
       "      <td>2.0</td>\n",
       "      <td>2843.192253</td>\n",
       "      <td>1935.186712</td>\n",
       "      <td>8.083742e+06</td>\n",
       "    </tr>\n",
       "    <tr>\n",
       "      <th>3</th>\n",
       "      <td></td>\n",
       "      <td>2020-03-02 10:57:31</td>\n",
       "      <td>0.679 sec</td>\n",
       "      <td>3.0</td>\n",
       "      <td>2061.510621</td>\n",
       "      <td>1358.178439</td>\n",
       "      <td>4.249826e+06</td>\n",
       "    </tr>\n",
       "    <tr>\n",
       "      <th>4</th>\n",
       "      <td></td>\n",
       "      <td>2020-03-02 10:57:31</td>\n",
       "      <td>0.769 sec</td>\n",
       "      <td>4.0</td>\n",
       "      <td>1522.445479</td>\n",
       "      <td>964.388965</td>\n",
       "      <td>2.317840e+06</td>\n",
       "    </tr>\n",
       "    <tr>\n",
       "      <th>5</th>\n",
       "      <td></td>\n",
       "      <td>2020-03-02 10:57:31</td>\n",
       "      <td>0.891 sec</td>\n",
       "      <td>5.0</td>\n",
       "      <td>1161.663594</td>\n",
       "      <td>706.078376</td>\n",
       "      <td>1.349462e+06</td>\n",
       "    </tr>\n",
       "    <tr>\n",
       "      <th>6</th>\n",
       "      <td></td>\n",
       "      <td>2020-03-02 10:57:31</td>\n",
       "      <td>1.000 sec</td>\n",
       "      <td>6.0</td>\n",
       "      <td>927.263929</td>\n",
       "      <td>543.097587</td>\n",
       "      <td>8.598184e+05</td>\n",
       "    </tr>\n",
       "    <tr>\n",
       "      <th>7</th>\n",
       "      <td></td>\n",
       "      <td>2020-03-02 10:57:32</td>\n",
       "      <td>1.094 sec</td>\n",
       "      <td>7.0</td>\n",
       "      <td>777.427419</td>\n",
       "      <td>442.846254</td>\n",
       "      <td>6.043934e+05</td>\n",
       "    </tr>\n",
       "    <tr>\n",
       "      <th>8</th>\n",
       "      <td></td>\n",
       "      <td>2020-03-02 10:57:32</td>\n",
       "      <td>1.191 sec</td>\n",
       "      <td>8.0</td>\n",
       "      <td>683.513806</td>\n",
       "      <td>381.720417</td>\n",
       "      <td>4.671911e+05</td>\n",
       "    </tr>\n",
       "    <tr>\n",
       "      <th>9</th>\n",
       "      <td></td>\n",
       "      <td>2020-03-02 10:57:32</td>\n",
       "      <td>1.286 sec</td>\n",
       "      <td>9.0</td>\n",
       "      <td>627.757361</td>\n",
       "      <td>344.835182</td>\n",
       "      <td>3.940793e+05</td>\n",
       "    </tr>\n",
       "    <tr>\n",
       "      <th>10</th>\n",
       "      <td></td>\n",
       "      <td>2020-03-02 10:57:32</td>\n",
       "      <td>1.399 sec</td>\n",
       "      <td>10.0</td>\n",
       "      <td>593.723051</td>\n",
       "      <td>322.354498</td>\n",
       "      <td>3.525071e+05</td>\n",
       "    </tr>\n",
       "    <tr>\n",
       "      <th>11</th>\n",
       "      <td></td>\n",
       "      <td>2020-03-02 10:57:32</td>\n",
       "      <td>1.502 sec</td>\n",
       "      <td>11.0</td>\n",
       "      <td>570.993475</td>\n",
       "      <td>308.098255</td>\n",
       "      <td>3.260335e+05</td>\n",
       "    </tr>\n",
       "    <tr>\n",
       "      <th>12</th>\n",
       "      <td></td>\n",
       "      <td>2020-03-02 10:57:32</td>\n",
       "      <td>1.607 sec</td>\n",
       "      <td>12.0</td>\n",
       "      <td>557.124395</td>\n",
       "      <td>298.928045</td>\n",
       "      <td>3.103876e+05</td>\n",
       "    </tr>\n",
       "    <tr>\n",
       "      <th>13</th>\n",
       "      <td></td>\n",
       "      <td>2020-03-02 10:57:32</td>\n",
       "      <td>1.709 sec</td>\n",
       "      <td>13.0</td>\n",
       "      <td>547.500703</td>\n",
       "      <td>293.031649</td>\n",
       "      <td>2.997570e+05</td>\n",
       "    </tr>\n",
       "    <tr>\n",
       "      <th>14</th>\n",
       "      <td></td>\n",
       "      <td>2020-03-02 10:57:32</td>\n",
       "      <td>1.810 sec</td>\n",
       "      <td>14.0</td>\n",
       "      <td>541.508602</td>\n",
       "      <td>288.961215</td>\n",
       "      <td>2.932316e+05</td>\n",
       "    </tr>\n",
       "    <tr>\n",
       "      <th>15</th>\n",
       "      <td></td>\n",
       "      <td>2020-03-02 10:57:32</td>\n",
       "      <td>1.921 sec</td>\n",
       "      <td>15.0</td>\n",
       "      <td>536.434998</td>\n",
       "      <td>285.849614</td>\n",
       "      <td>2.877625e+05</td>\n",
       "    </tr>\n",
       "    <tr>\n",
       "      <th>16</th>\n",
       "      <td></td>\n",
       "      <td>2020-03-02 10:57:33</td>\n",
       "      <td>2.029 sec</td>\n",
       "      <td>16.0</td>\n",
       "      <td>532.655584</td>\n",
       "      <td>283.695321</td>\n",
       "      <td>2.837220e+05</td>\n",
       "    </tr>\n",
       "    <tr>\n",
       "      <th>17</th>\n",
       "      <td></td>\n",
       "      <td>2020-03-02 10:57:33</td>\n",
       "      <td>2.144 sec</td>\n",
       "      <td>17.0</td>\n",
       "      <td>529.613233</td>\n",
       "      <td>282.032453</td>\n",
       "      <td>2.804902e+05</td>\n",
       "    </tr>\n",
       "    <tr>\n",
       "      <th>18</th>\n",
       "      <td></td>\n",
       "      <td>2020-03-02 10:57:33</td>\n",
       "      <td>2.254 sec</td>\n",
       "      <td>18.0</td>\n",
       "      <td>526.521204</td>\n",
       "      <td>280.710965</td>\n",
       "      <td>2.772246e+05</td>\n",
       "    </tr>\n",
       "    <tr>\n",
       "      <th>19</th>\n",
       "      <td></td>\n",
       "      <td>2020-03-02 10:57:33</td>\n",
       "      <td>2.361 sec</td>\n",
       "      <td>19.0</td>\n",
       "      <td>522.638396</td>\n",
       "      <td>278.907166</td>\n",
       "      <td>2.731509e+05</td>\n",
       "    </tr>\n",
       "  </tbody>\n",
       "</table>\n",
       "</div>"
      ],
      "text/plain": [
       "                timestamp    duration  number_of_trees  training_rmse  \\\n",
       "0     2020-03-02 10:57:31   0.023 sec              0.0    5610.921789   \n",
       "1     2020-03-02 10:57:31   0.491 sec              1.0    3976.490313   \n",
       "2     2020-03-02 10:57:31   0.584 sec              2.0    2843.192253   \n",
       "3     2020-03-02 10:57:31   0.679 sec              3.0    2061.510621   \n",
       "4     2020-03-02 10:57:31   0.769 sec              4.0    1522.445479   \n",
       "5     2020-03-02 10:57:31   0.891 sec              5.0    1161.663594   \n",
       "6     2020-03-02 10:57:31   1.000 sec              6.0     927.263929   \n",
       "7     2020-03-02 10:57:32   1.094 sec              7.0     777.427419   \n",
       "8     2020-03-02 10:57:32   1.191 sec              8.0     683.513806   \n",
       "9     2020-03-02 10:57:32   1.286 sec              9.0     627.757361   \n",
       "10    2020-03-02 10:57:32   1.399 sec             10.0     593.723051   \n",
       "11    2020-03-02 10:57:32   1.502 sec             11.0     570.993475   \n",
       "12    2020-03-02 10:57:32   1.607 sec             12.0     557.124395   \n",
       "13    2020-03-02 10:57:32   1.709 sec             13.0     547.500703   \n",
       "14    2020-03-02 10:57:32   1.810 sec             14.0     541.508602   \n",
       "15    2020-03-02 10:57:32   1.921 sec             15.0     536.434998   \n",
       "16    2020-03-02 10:57:33   2.029 sec             16.0     532.655584   \n",
       "17    2020-03-02 10:57:33   2.144 sec             17.0     529.613233   \n",
       "18    2020-03-02 10:57:33   2.254 sec             18.0     526.521204   \n",
       "19    2020-03-02 10:57:33   2.361 sec             19.0     522.638396   \n",
       "\n",
       "    training_mae  training_deviance  \n",
       "0    3940.448582       3.148244e+07  \n",
       "1    2761.240518       1.581248e+07  \n",
       "2    1935.186712       8.083742e+06  \n",
       "3    1358.178439       4.249826e+06  \n",
       "4     964.388965       2.317840e+06  \n",
       "5     706.078376       1.349462e+06  \n",
       "6     543.097587       8.598184e+05  \n",
       "7     442.846254       6.043934e+05  \n",
       "8     381.720417       4.671911e+05  \n",
       "9     344.835182       3.940793e+05  \n",
       "10    322.354498       3.525071e+05  \n",
       "11    308.098255       3.260335e+05  \n",
       "12    298.928045       3.103876e+05  \n",
       "13    293.031649       2.997570e+05  \n",
       "14    288.961215       2.932316e+05  \n",
       "15    285.849614       2.877625e+05  \n",
       "16    283.695321       2.837220e+05  \n",
       "17    282.032453       2.804902e+05  \n",
       "18    280.710965       2.772246e+05  \n",
       "19    278.907166       2.731509e+05  "
      ]
     },
     "metadata": {},
     "output_type": "display_data"
    },
    {
     "name": "stdout",
     "output_type": "stream",
     "text": [
      "\n",
      "See the whole table with table.as_data_frame()\n",
      "\n",
      "Variable Importances: \n"
     ]
    },
    {
     "data": {
      "text/html": [
       "<div>\n",
       "<style scoped>\n",
       "    .dataframe tbody tr th:only-of-type {\n",
       "        vertical-align: middle;\n",
       "    }\n",
       "\n",
       "    .dataframe tbody tr th {\n",
       "        vertical-align: top;\n",
       "    }\n",
       "\n",
       "    .dataframe thead th {\n",
       "        text-align: right;\n",
       "    }\n",
       "</style>\n",
       "<table border=\"1\" class=\"dataframe\">\n",
       "  <thead>\n",
       "    <tr style=\"text-align: right;\">\n",
       "      <th></th>\n",
       "      <th>variable</th>\n",
       "      <th>relative_importance</th>\n",
       "      <th>scaled_importance</th>\n",
       "      <th>percentage</th>\n",
       "    </tr>\n",
       "  </thead>\n",
       "  <tbody>\n",
       "    <tr>\n",
       "      <th>0</th>\n",
       "      <td>carat</td>\n",
       "      <td>8.922571e+11</td>\n",
       "      <td>1.000000</td>\n",
       "      <td>0.896726</td>\n",
       "    </tr>\n",
       "    <tr>\n",
       "      <th>1</th>\n",
       "      <td>clarity</td>\n",
       "      <td>6.742632e+10</td>\n",
       "      <td>0.075568</td>\n",
       "      <td>0.067764</td>\n",
       "    </tr>\n",
       "    <tr>\n",
       "      <th>2</th>\n",
       "      <td>color</td>\n",
       "      <td>3.210114e+10</td>\n",
       "      <td>0.035977</td>\n",
       "      <td>0.032262</td>\n",
       "    </tr>\n",
       "    <tr>\n",
       "      <th>3</th>\n",
       "      <td>cut</td>\n",
       "      <td>3.232235e+09</td>\n",
       "      <td>0.003623</td>\n",
       "      <td>0.003248</td>\n",
       "    </tr>\n",
       "  </tbody>\n",
       "</table>\n",
       "</div>"
      ],
      "text/plain": [
       "  variable  relative_importance  scaled_importance  percentage\n",
       "0    carat         8.922571e+11           1.000000    0.896726\n",
       "1  clarity         6.742632e+10           0.075568    0.067764\n",
       "2    color         3.210114e+10           0.035977    0.032262\n",
       "3      cut         3.232235e+09           0.003623    0.003248"
      ]
     },
     "metadata": {},
     "output_type": "display_data"
    },
    {
     "data": {
      "text/plain": []
     },
     "execution_count": 22,
     "metadata": {},
     "output_type": "execute_result"
    }
   ],
   "source": [
    "from h2o.estimators.xgboost import H2OXGBoostEstimator\n",
    "gbm = H2OXGBoostEstimator()\n",
    "gbm.train(x=training_columns, y=response_column, training_frame=train)\n",
    "y_pred2 = gbm.predict(test)\n",
    "gbm"
   ]
  },
  {
   "cell_type": "code",
   "execution_count": null,
   "metadata": {},
   "outputs": [],
   "source": [
    "from h2o.automl import H2OAutoML\n",
    "aml = H2OAutoML(max_models=20, seed=1)\n",
    "aml.train(x=training_columns, y=response_column, training_frame=train)\n",
    "aml.leaderboard"
   ]
  },
  {
   "cell_type": "code",
   "execution_count": 35,
   "metadata": {},
   "outputs": [
    {
     "data": {
      "text/html": [
       "<table>\n",
       "<thead>\n",
       "<tr><th>model_id                                           </th><th style=\"text-align: right;\">  mean_residual_deviance</th><th style=\"text-align: right;\">   rmse</th><th style=\"text-align: right;\">   mse</th><th style=\"text-align: right;\">    mae</th><th style=\"text-align: right;\">     rmsle</th></tr>\n",
       "</thead>\n",
       "<tbody>\n",
       "<tr><td>StackedEnsemble_BestOfFamily_AutoML_20200302_112353</td><td style=\"text-align: right;\">                  300087</td><td style=\"text-align: right;\">547.802</td><td style=\"text-align: right;\">300087</td><td style=\"text-align: right;\">283.153</td><td style=\"text-align: right;\">  0.105978</td></tr>\n",
       "<tr><td>StackedEnsemble_AllModels_AutoML_20200302_112353   </td><td style=\"text-align: right;\">                  300397</td><td style=\"text-align: right;\">548.085</td><td style=\"text-align: right;\">300397</td><td style=\"text-align: right;\">283.236</td><td style=\"text-align: right;\">  0.106614</td></tr>\n",
       "<tr><td>GBM_2_AutoML_20200302_112353                       </td><td style=\"text-align: right;\">                  304530</td><td style=\"text-align: right;\">551.843</td><td style=\"text-align: right;\">304530</td><td style=\"text-align: right;\">286.475</td><td style=\"text-align: right;\">  0.108205</td></tr>\n",
       "<tr><td>GBM_3_AutoML_20200302_112353                       </td><td style=\"text-align: right;\">                  306094</td><td style=\"text-align: right;\">553.257</td><td style=\"text-align: right;\">306094</td><td style=\"text-align: right;\">286.817</td><td style=\"text-align: right;\">  0.108587</td></tr>\n",
       "<tr><td>GBM_1_AutoML_20200302_112353                       </td><td style=\"text-align: right;\">                  306856</td><td style=\"text-align: right;\">553.946</td><td style=\"text-align: right;\">306856</td><td style=\"text-align: right;\">291.924</td><td style=\"text-align: right;\">  0.115551</td></tr>\n",
       "<tr><td>XGBoost_grid__1_AutoML_20200302_112353_model_4     </td><td style=\"text-align: right;\">                  307852</td><td style=\"text-align: right;\">554.844</td><td style=\"text-align: right;\">307852</td><td style=\"text-align: right;\">287.211</td><td style=\"text-align: right;\">  0.106179</td></tr>\n",
       "<tr><td>XGBoost_2_AutoML_20200302_112353                   </td><td style=\"text-align: right;\">                  310206</td><td style=\"text-align: right;\">556.962</td><td style=\"text-align: right;\">310206</td><td style=\"text-align: right;\">288.721</td><td style=\"text-align: right;\">  0.107566</td></tr>\n",
       "<tr><td>GBM_5_AutoML_20200302_112353                       </td><td style=\"text-align: right;\">                  312896</td><td style=\"text-align: right;\">559.371</td><td style=\"text-align: right;\">312896</td><td style=\"text-align: right;\">290.476</td><td style=\"text-align: right;\">nan       </td></tr>\n",
       "<tr><td>GBM_4_AutoML_20200302_112353                       </td><td style=\"text-align: right;\">                  314272</td><td style=\"text-align: right;\">560.599</td><td style=\"text-align: right;\">314272</td><td style=\"text-align: right;\">288.806</td><td style=\"text-align: right;\">  0.106431</td></tr>\n",
       "<tr><td>XGBoost_grid__1_AutoML_20200302_112353_model_2     </td><td style=\"text-align: right;\">                  315591</td><td style=\"text-align: right;\">561.775</td><td style=\"text-align: right;\">315591</td><td style=\"text-align: right;\">290.485</td><td style=\"text-align: right;\">  0.110037</td></tr>\n",
       "</tbody>\n",
       "</table>"
      ]
     },
     "metadata": {},
     "output_type": "display_data"
    },
    {
     "data": {
      "text/plain": []
     },
     "execution_count": 35,
     "metadata": {},
     "output_type": "execute_result"
    }
   ],
   "source": [
    "aml.leaderboard"
   ]
  },
  {
   "cell_type": "code",
   "execution_count": 34,
   "metadata": {},
   "outputs": [
    {
     "name": "stdout",
     "output_type": "stream",
     "text": [
      "stackedensemble prediction progress: |████████████████████████████████████| 100%\n"
     ]
    },
    {
     "data": {
      "text/html": [
       "<table>\n",
       "<thead>\n",
       "<tr><th style=\"text-align: right;\">  predict</th></tr>\n",
       "</thead>\n",
       "<tbody>\n",
       "<tr><td style=\"text-align: right;\">  4329.23</td></tr>\n",
       "<tr><td style=\"text-align: right;\">  1105.94</td></tr>\n",
       "<tr><td style=\"text-align: right;\"> 16719.4 </td></tr>\n",
       "<tr><td style=\"text-align: right;\">  6693.54</td></tr>\n",
       "<tr><td style=\"text-align: right;\">  1504.96</td></tr>\n",
       "<tr><td style=\"text-align: right;\">  2094.62</td></tr>\n",
       "<tr><td style=\"text-align: right;\">  1980.41</td></tr>\n",
       "<tr><td style=\"text-align: right;\">  1902.5 </td></tr>\n",
       "<tr><td style=\"text-align: right;\">  3755.97</td></tr>\n",
       "<tr><td style=\"text-align: right;\"> 15895   </td></tr>\n",
       "</tbody>\n",
       "</table>"
      ]
     },
     "metadata": {},
     "output_type": "display_data"
    },
    {
     "data": {
      "text/plain": []
     },
     "execution_count": 34,
     "metadata": {},
     "output_type": "execute_result"
    }
   ],
   "source": [
    "aml.predict(test)"
   ]
  },
  {
   "cell_type": "markdown",
   "metadata": {},
   "source": [
    "# TEST"
   ]
  },
  {
   "cell_type": "markdown",
   "metadata": {},
   "source": [
    "repetimos la misma limpieza realizada al dataframe con el que hemos entrenado el modelo, pero al que vamos usar para predecir"
   ]
  },
  {
   "cell_type": "code",
   "execution_count": 23,
   "metadata": {},
   "outputs": [
    {
     "data": {
      "text/html": [
       "<div>\n",
       "<style scoped>\n",
       "    .dataframe tbody tr th:only-of-type {\n",
       "        vertical-align: middle;\n",
       "    }\n",
       "\n",
       "    .dataframe tbody tr th {\n",
       "        vertical-align: top;\n",
       "    }\n",
       "\n",
       "    .dataframe thead th {\n",
       "        text-align: right;\n",
       "    }\n",
       "</style>\n",
       "<table border=\"1\" class=\"dataframe\">\n",
       "  <thead>\n",
       "    <tr style=\"text-align: right;\">\n",
       "      <th></th>\n",
       "      <th>id</th>\n",
       "      <th>carat</th>\n",
       "      <th>cut</th>\n",
       "      <th>color</th>\n",
       "      <th>clarity</th>\n",
       "      <th>depth</th>\n",
       "      <th>table</th>\n",
       "      <th>x</th>\n",
       "      <th>y</th>\n",
       "      <th>z</th>\n",
       "    </tr>\n",
       "  </thead>\n",
       "  <tbody>\n",
       "    <tr>\n",
       "      <th>0</th>\n",
       "      <td>0</td>\n",
       "      <td>1.10</td>\n",
       "      <td>Premium</td>\n",
       "      <td>H</td>\n",
       "      <td>SI2</td>\n",
       "      <td>62.2</td>\n",
       "      <td>58.0</td>\n",
       "      <td>6.69</td>\n",
       "      <td>6.60</td>\n",
       "      <td>4.13</td>\n",
       "    </tr>\n",
       "    <tr>\n",
       "      <th>1</th>\n",
       "      <td>1</td>\n",
       "      <td>0.51</td>\n",
       "      <td>Ideal</td>\n",
       "      <td>I</td>\n",
       "      <td>SI1</td>\n",
       "      <td>62.5</td>\n",
       "      <td>57.0</td>\n",
       "      <td>5.07</td>\n",
       "      <td>5.10</td>\n",
       "      <td>3.18</td>\n",
       "    </tr>\n",
       "    <tr>\n",
       "      <th>2</th>\n",
       "      <td>2</td>\n",
       "      <td>2.03</td>\n",
       "      <td>Premium</td>\n",
       "      <td>G</td>\n",
       "      <td>SI1</td>\n",
       "      <td>61.9</td>\n",
       "      <td>59.0</td>\n",
       "      <td>8.14</td>\n",
       "      <td>8.09</td>\n",
       "      <td>5.02</td>\n",
       "    </tr>\n",
       "    <tr>\n",
       "      <th>3</th>\n",
       "      <td>3</td>\n",
       "      <td>1.21</td>\n",
       "      <td>Premium</td>\n",
       "      <td>F</td>\n",
       "      <td>SI1</td>\n",
       "      <td>60.0</td>\n",
       "      <td>60.0</td>\n",
       "      <td>6.96</td>\n",
       "      <td>6.91</td>\n",
       "      <td>4.16</td>\n",
       "    </tr>\n",
       "    <tr>\n",
       "      <th>4</th>\n",
       "      <td>4</td>\n",
       "      <td>0.55</td>\n",
       "      <td>Ideal</td>\n",
       "      <td>F</td>\n",
       "      <td>SI1</td>\n",
       "      <td>61.8</td>\n",
       "      <td>55.0</td>\n",
       "      <td>5.27</td>\n",
       "      <td>5.22</td>\n",
       "      <td>3.24</td>\n",
       "    </tr>\n",
       "  </tbody>\n",
       "</table>\n",
       "</div>"
      ],
      "text/plain": [
       "   id  carat      cut color clarity  depth  table     x     y     z\n",
       "0   0   1.10  Premium     H     SI2   62.2   58.0  6.69  6.60  4.13\n",
       "1   1   0.51    Ideal     I     SI1   62.5   57.0  5.07  5.10  3.18\n",
       "2   2   2.03  Premium     G     SI1   61.9   59.0  8.14  8.09  5.02\n",
       "3   3   1.21  Premium     F     SI1   60.0   60.0  6.96  6.91  4.16\n",
       "4   4   0.55    Ideal     F     SI1   61.8   55.0  5.27  5.22  3.24"
      ]
     },
     "execution_count": 23,
     "metadata": {},
     "output_type": "execute_result"
    }
   ],
   "source": [
    "diamons_test1 = pd.read_csv('INPUT/diamonds_test.csv')\n",
    "diamons_test1.head()"
   ]
  },
  {
   "cell_type": "code",
   "execution_count": 24,
   "metadata": {},
   "outputs": [],
   "source": [
    "diamons_test = diamons_test1.drop(columns=['id','y','z','x','depth','table'])\n",
    "diamons_test = clean_data(diamons_test)\n",
    "tr = StandardScaler()\n",
    "Xpr_test = tr.fit_transform(diamons_test)\n",
    "Xpr_test = pd.DataFrame(Xpr_test,columns=diamons_test.columns)"
   ]
  },
  {
   "cell_type": "code",
   "execution_count": 25,
   "metadata": {},
   "outputs": [
    {
     "data": {
      "text/html": [
       "<div>\n",
       "<style scoped>\n",
       "    .dataframe tbody tr th:only-of-type {\n",
       "        vertical-align: middle;\n",
       "    }\n",
       "\n",
       "    .dataframe tbody tr th {\n",
       "        vertical-align: top;\n",
       "    }\n",
       "\n",
       "    .dataframe thead th {\n",
       "        text-align: right;\n",
       "    }\n",
       "</style>\n",
       "<table border=\"1\" class=\"dataframe\">\n",
       "  <thead>\n",
       "    <tr style=\"text-align: right;\">\n",
       "      <th></th>\n",
       "      <th>carat</th>\n",
       "      <th>cut</th>\n",
       "      <th>color</th>\n",
       "      <th>clarity</th>\n",
       "    </tr>\n",
       "  </thead>\n",
       "  <tbody>\n",
       "    <tr>\n",
       "      <th>0</th>\n",
       "      <td>0.641654</td>\n",
       "      <td>1.206931</td>\n",
       "      <td>-0.825150</td>\n",
       "      <td>-1.248447</td>\n",
       "    </tr>\n",
       "    <tr>\n",
       "      <th>1</th>\n",
       "      <td>-0.612003</td>\n",
       "      <td>0.235710</td>\n",
       "      <td>-1.412535</td>\n",
       "      <td>-0.636553</td>\n",
       "    </tr>\n",
       "    <tr>\n",
       "      <th>2</th>\n",
       "      <td>2.617757</td>\n",
       "      <td>1.206931</td>\n",
       "      <td>-0.237766</td>\n",
       "      <td>-0.636553</td>\n",
       "    </tr>\n",
       "    <tr>\n",
       "      <th>3</th>\n",
       "      <td>0.875386</td>\n",
       "      <td>1.206931</td>\n",
       "      <td>0.349618</td>\n",
       "      <td>-0.636553</td>\n",
       "    </tr>\n",
       "    <tr>\n",
       "      <th>4</th>\n",
       "      <td>-0.527010</td>\n",
       "      <td>0.235710</td>\n",
       "      <td>0.349618</td>\n",
       "      <td>-0.636553</td>\n",
       "    </tr>\n",
       "  </tbody>\n",
       "</table>\n",
       "</div>"
      ],
      "text/plain": [
       "      carat       cut     color   clarity\n",
       "0  0.641654  1.206931 -0.825150 -1.248447\n",
       "1 -0.612003  0.235710 -1.412535 -0.636553\n",
       "2  2.617757  1.206931 -0.237766 -0.636553\n",
       "3  0.875386  1.206931  0.349618 -0.636553\n",
       "4 -0.527010  0.235710  0.349618 -0.636553"
      ]
     },
     "execution_count": 25,
     "metadata": {},
     "output_type": "execute_result"
    }
   ],
   "source": [
    "Xpr_test.head()"
   ]
  },
  {
   "cell_type": "code",
   "execution_count": 26,
   "metadata": {},
   "outputs": [],
   "source": [
    "rf_reg = RandomForestRegressor(n_estimators=150, max_depth=15, min_samples_leaf=5, random_state=111)\n",
    "rf_reg.fit(Xpr, y)\n",
    "y_pred = rf_reg.predict(Xpr_test)\n",
    "diamons_s = pd.DataFrame(y_pred, columns=['price'])\n",
    "diamons_final = diamons_s.reset_index().rename(columns={'index':'id'})\n",
    "diamons_final.to_csv('OUTPUT/final_sklearn.csv',index=False)"
   ]
  },
  {
   "cell_type": "markdown",
   "metadata": {},
   "source": [
    "## TEST H20"
   ]
  },
  {
   "cell_type": "code",
   "execution_count": 27,
   "metadata": {},
   "outputs": [
    {
     "name": "stdout",
     "output_type": "stream",
     "text": [
      "Parse progress: |█████████████████████████████████████████████████████████| 100%\n",
      "Parse progress: |█████████████████████████████████████████████████████████| 100%\n",
      "xgboost Model Build progress: |███████████████████████████████████████████| 100%\n",
      "xgboost prediction progress: |████████████████████████████████████████████| 100%\n",
      "Model Details\n",
      "=============\n",
      "H2OXGBoostEstimator :  XGBoost\n",
      "Model Key:  XGBoost_model_python_1583142833048_4\n",
      "\n",
      "\n",
      "Model Summary: \n"
     ]
    },
    {
     "data": {
      "text/html": [
       "<div>\n",
       "<style scoped>\n",
       "    .dataframe tbody tr th:only-of-type {\n",
       "        vertical-align: middle;\n",
       "    }\n",
       "\n",
       "    .dataframe tbody tr th {\n",
       "        vertical-align: top;\n",
       "    }\n",
       "\n",
       "    .dataframe thead th {\n",
       "        text-align: right;\n",
       "    }\n",
       "</style>\n",
       "<table border=\"1\" class=\"dataframe\">\n",
       "  <thead>\n",
       "    <tr style=\"text-align: right;\">\n",
       "      <th></th>\n",
       "      <th></th>\n",
       "      <th>number_of_trees</th>\n",
       "    </tr>\n",
       "  </thead>\n",
       "  <tbody>\n",
       "    <tr>\n",
       "      <th>0</th>\n",
       "      <td></td>\n",
       "      <td>50.0</td>\n",
       "    </tr>\n",
       "  </tbody>\n",
       "</table>\n",
       "</div>"
      ],
      "text/plain": [
       "     number_of_trees\n",
       "0               50.0"
      ]
     },
     "metadata": {},
     "output_type": "display_data"
    },
    {
     "name": "stdout",
     "output_type": "stream",
     "text": [
      "\n",
      "\n",
      "ModelMetricsRegression: xgboost\n",
      "** Reported on train data. **\n",
      "\n",
      "MSE: 244712.9381845095\n",
      "RMSE: 494.68468561752496\n",
      "MAE: 263.7480002692234\n",
      "RMSLE: 0.10097490034663482\n",
      "Mean Residual Deviance: 244712.9381845095\n",
      "\n",
      "Scoring History: \n"
     ]
    },
    {
     "data": {
      "text/html": [
       "<div>\n",
       "<style scoped>\n",
       "    .dataframe tbody tr th:only-of-type {\n",
       "        vertical-align: middle;\n",
       "    }\n",
       "\n",
       "    .dataframe tbody tr th {\n",
       "        vertical-align: top;\n",
       "    }\n",
       "\n",
       "    .dataframe thead th {\n",
       "        text-align: right;\n",
       "    }\n",
       "</style>\n",
       "<table border=\"1\" class=\"dataframe\">\n",
       "  <thead>\n",
       "    <tr style=\"text-align: right;\">\n",
       "      <th></th>\n",
       "      <th></th>\n",
       "      <th>timestamp</th>\n",
       "      <th>duration</th>\n",
       "      <th>number_of_trees</th>\n",
       "      <th>training_rmse</th>\n",
       "      <th>training_mae</th>\n",
       "      <th>training_deviance</th>\n",
       "    </tr>\n",
       "  </thead>\n",
       "  <tbody>\n",
       "    <tr>\n",
       "      <th>0</th>\n",
       "      <td></td>\n",
       "      <td>2020-03-02 10:57:42</td>\n",
       "      <td>0.016 sec</td>\n",
       "      <td>0.0</td>\n",
       "      <td>5604.472417</td>\n",
       "      <td>3931.402243</td>\n",
       "      <td>3.141011e+07</td>\n",
       "    </tr>\n",
       "    <tr>\n",
       "      <th>1</th>\n",
       "      <td></td>\n",
       "      <td>2020-03-02 10:57:43</td>\n",
       "      <td>0.391 sec</td>\n",
       "      <td>1.0</td>\n",
       "      <td>3970.523114</td>\n",
       "      <td>2754.415180</td>\n",
       "      <td>1.576505e+07</td>\n",
       "    </tr>\n",
       "    <tr>\n",
       "      <th>2</th>\n",
       "      <td></td>\n",
       "      <td>2020-03-02 10:57:43</td>\n",
       "      <td>0.487 sec</td>\n",
       "      <td>2.0</td>\n",
       "      <td>2836.986294</td>\n",
       "      <td>1929.909199</td>\n",
       "      <td>8.048491e+06</td>\n",
       "    </tr>\n",
       "    <tr>\n",
       "      <th>3</th>\n",
       "      <td></td>\n",
       "      <td>2020-03-02 10:57:43</td>\n",
       "      <td>0.586 sec</td>\n",
       "      <td>3.0</td>\n",
       "      <td>2055.721888</td>\n",
       "      <td>1354.711481</td>\n",
       "      <td>4.225992e+06</td>\n",
       "    </tr>\n",
       "    <tr>\n",
       "      <th>4</th>\n",
       "      <td></td>\n",
       "      <td>2020-03-02 10:57:43</td>\n",
       "      <td>0.672 sec</td>\n",
       "      <td>4.0</td>\n",
       "      <td>1519.368447</td>\n",
       "      <td>961.906537</td>\n",
       "      <td>2.308480e+06</td>\n",
       "    </tr>\n",
       "    <tr>\n",
       "      <th>5</th>\n",
       "      <td></td>\n",
       "      <td>2020-03-02 10:57:43</td>\n",
       "      <td>0.775 sec</td>\n",
       "      <td>5.0</td>\n",
       "      <td>1158.344376</td>\n",
       "      <td>704.411804</td>\n",
       "      <td>1.341762e+06</td>\n",
       "    </tr>\n",
       "    <tr>\n",
       "      <th>6</th>\n",
       "      <td></td>\n",
       "      <td>2020-03-02 10:57:43</td>\n",
       "      <td>0.888 sec</td>\n",
       "      <td>6.0</td>\n",
       "      <td>921.027966</td>\n",
       "      <td>539.889016</td>\n",
       "      <td>8.482925e+05</td>\n",
       "    </tr>\n",
       "    <tr>\n",
       "      <th>7</th>\n",
       "      <td></td>\n",
       "      <td>2020-03-02 10:57:43</td>\n",
       "      <td>0.992 sec</td>\n",
       "      <td>7.0</td>\n",
       "      <td>772.776473</td>\n",
       "      <td>440.316960</td>\n",
       "      <td>5.971835e+05</td>\n",
       "    </tr>\n",
       "    <tr>\n",
       "      <th>8</th>\n",
       "      <td></td>\n",
       "      <td>2020-03-02 10:57:43</td>\n",
       "      <td>1.107 sec</td>\n",
       "      <td>8.0</td>\n",
       "      <td>679.471042</td>\n",
       "      <td>379.107852</td>\n",
       "      <td>4.616809e+05</td>\n",
       "    </tr>\n",
       "    <tr>\n",
       "      <th>9</th>\n",
       "      <td></td>\n",
       "      <td>2020-03-02 10:57:44</td>\n",
       "      <td>1.210 sec</td>\n",
       "      <td>9.0</td>\n",
       "      <td>622.545821</td>\n",
       "      <td>342.210047</td>\n",
       "      <td>3.875633e+05</td>\n",
       "    </tr>\n",
       "    <tr>\n",
       "      <th>10</th>\n",
       "      <td></td>\n",
       "      <td>2020-03-02 10:57:44</td>\n",
       "      <td>1.310 sec</td>\n",
       "      <td>10.0</td>\n",
       "      <td>588.032197</td>\n",
       "      <td>320.132908</td>\n",
       "      <td>3.457819e+05</td>\n",
       "    </tr>\n",
       "    <tr>\n",
       "      <th>11</th>\n",
       "      <td></td>\n",
       "      <td>2020-03-02 10:57:44</td>\n",
       "      <td>1.407 sec</td>\n",
       "      <td>11.0</td>\n",
       "      <td>566.618182</td>\n",
       "      <td>305.768366</td>\n",
       "      <td>3.210562e+05</td>\n",
       "    </tr>\n",
       "    <tr>\n",
       "      <th>12</th>\n",
       "      <td></td>\n",
       "      <td>2020-03-02 10:57:44</td>\n",
       "      <td>1.492 sec</td>\n",
       "      <td>12.0</td>\n",
       "      <td>554.371454</td>\n",
       "      <td>297.514861</td>\n",
       "      <td>3.073277e+05</td>\n",
       "    </tr>\n",
       "    <tr>\n",
       "      <th>13</th>\n",
       "      <td></td>\n",
       "      <td>2020-03-02 10:57:44</td>\n",
       "      <td>1.576 sec</td>\n",
       "      <td>13.0</td>\n",
       "      <td>545.956100</td>\n",
       "      <td>291.846326</td>\n",
       "      <td>2.980681e+05</td>\n",
       "    </tr>\n",
       "    <tr>\n",
       "      <th>14</th>\n",
       "      <td></td>\n",
       "      <td>2020-03-02 10:57:44</td>\n",
       "      <td>1.672 sec</td>\n",
       "      <td>14.0</td>\n",
       "      <td>540.347425</td>\n",
       "      <td>288.149225</td>\n",
       "      <td>2.919753e+05</td>\n",
       "    </tr>\n",
       "    <tr>\n",
       "      <th>15</th>\n",
       "      <td></td>\n",
       "      <td>2020-03-02 10:57:44</td>\n",
       "      <td>1.775 sec</td>\n",
       "      <td>15.0</td>\n",
       "      <td>535.330509</td>\n",
       "      <td>284.967089</td>\n",
       "      <td>2.865788e+05</td>\n",
       "    </tr>\n",
       "    <tr>\n",
       "      <th>16</th>\n",
       "      <td></td>\n",
       "      <td>2020-03-02 10:57:44</td>\n",
       "      <td>1.864 sec</td>\n",
       "      <td>16.0</td>\n",
       "      <td>532.149604</td>\n",
       "      <td>282.827782</td>\n",
       "      <td>2.831832e+05</td>\n",
       "    </tr>\n",
       "    <tr>\n",
       "      <th>17</th>\n",
       "      <td></td>\n",
       "      <td>2020-03-02 10:57:44</td>\n",
       "      <td>1.954 sec</td>\n",
       "      <td>17.0</td>\n",
       "      <td>529.326770</td>\n",
       "      <td>281.225942</td>\n",
       "      <td>2.801868e+05</td>\n",
       "    </tr>\n",
       "    <tr>\n",
       "      <th>18</th>\n",
       "      <td></td>\n",
       "      <td>2020-03-02 10:57:44</td>\n",
       "      <td>2.041 sec</td>\n",
       "      <td>18.0</td>\n",
       "      <td>526.943334</td>\n",
       "      <td>279.746516</td>\n",
       "      <td>2.776693e+05</td>\n",
       "    </tr>\n",
       "    <tr>\n",
       "      <th>19</th>\n",
       "      <td></td>\n",
       "      <td>2020-03-02 10:57:45</td>\n",
       "      <td>2.135 sec</td>\n",
       "      <td>19.0</td>\n",
       "      <td>525.126874</td>\n",
       "      <td>278.793971</td>\n",
       "      <td>2.757582e+05</td>\n",
       "    </tr>\n",
       "  </tbody>\n",
       "</table>\n",
       "</div>"
      ],
      "text/plain": [
       "                timestamp    duration  number_of_trees  training_rmse  \\\n",
       "0     2020-03-02 10:57:42   0.016 sec              0.0    5604.472417   \n",
       "1     2020-03-02 10:57:43   0.391 sec              1.0    3970.523114   \n",
       "2     2020-03-02 10:57:43   0.487 sec              2.0    2836.986294   \n",
       "3     2020-03-02 10:57:43   0.586 sec              3.0    2055.721888   \n",
       "4     2020-03-02 10:57:43   0.672 sec              4.0    1519.368447   \n",
       "5     2020-03-02 10:57:43   0.775 sec              5.0    1158.344376   \n",
       "6     2020-03-02 10:57:43   0.888 sec              6.0     921.027966   \n",
       "7     2020-03-02 10:57:43   0.992 sec              7.0     772.776473   \n",
       "8     2020-03-02 10:57:43   1.107 sec              8.0     679.471042   \n",
       "9     2020-03-02 10:57:44   1.210 sec              9.0     622.545821   \n",
       "10    2020-03-02 10:57:44   1.310 sec             10.0     588.032197   \n",
       "11    2020-03-02 10:57:44   1.407 sec             11.0     566.618182   \n",
       "12    2020-03-02 10:57:44   1.492 sec             12.0     554.371454   \n",
       "13    2020-03-02 10:57:44   1.576 sec             13.0     545.956100   \n",
       "14    2020-03-02 10:57:44   1.672 sec             14.0     540.347425   \n",
       "15    2020-03-02 10:57:44   1.775 sec             15.0     535.330509   \n",
       "16    2020-03-02 10:57:44   1.864 sec             16.0     532.149604   \n",
       "17    2020-03-02 10:57:44   1.954 sec             17.0     529.326770   \n",
       "18    2020-03-02 10:57:44   2.041 sec             18.0     526.943334   \n",
       "19    2020-03-02 10:57:45   2.135 sec             19.0     525.126874   \n",
       "\n",
       "    training_mae  training_deviance  \n",
       "0    3931.402243       3.141011e+07  \n",
       "1    2754.415180       1.576505e+07  \n",
       "2    1929.909199       8.048491e+06  \n",
       "3    1354.711481       4.225992e+06  \n",
       "4     961.906537       2.308480e+06  \n",
       "5     704.411804       1.341762e+06  \n",
       "6     539.889016       8.482925e+05  \n",
       "7     440.316960       5.971835e+05  \n",
       "8     379.107852       4.616809e+05  \n",
       "9     342.210047       3.875633e+05  \n",
       "10    320.132908       3.457819e+05  \n",
       "11    305.768366       3.210562e+05  \n",
       "12    297.514861       3.073277e+05  \n",
       "13    291.846326       2.980681e+05  \n",
       "14    288.149225       2.919753e+05  \n",
       "15    284.967089       2.865788e+05  \n",
       "16    282.827782       2.831832e+05  \n",
       "17    281.225942       2.801868e+05  \n",
       "18    279.746516       2.776693e+05  \n",
       "19    278.793971       2.757582e+05  "
      ]
     },
     "metadata": {},
     "output_type": "display_data"
    },
    {
     "name": "stdout",
     "output_type": "stream",
     "text": [
      "\n",
      "See the whole table with table.as_data_frame()\n",
      "\n",
      "Variable Importances: \n"
     ]
    },
    {
     "data": {
      "text/html": [
       "<div>\n",
       "<style scoped>\n",
       "    .dataframe tbody tr th:only-of-type {\n",
       "        vertical-align: middle;\n",
       "    }\n",
       "\n",
       "    .dataframe tbody tr th {\n",
       "        vertical-align: top;\n",
       "    }\n",
       "\n",
       "    .dataframe thead th {\n",
       "        text-align: right;\n",
       "    }\n",
       "</style>\n",
       "<table border=\"1\" class=\"dataframe\">\n",
       "  <thead>\n",
       "    <tr style=\"text-align: right;\">\n",
       "      <th></th>\n",
       "      <th>variable</th>\n",
       "      <th>relative_importance</th>\n",
       "      <th>scaled_importance</th>\n",
       "      <th>percentage</th>\n",
       "    </tr>\n",
       "  </thead>\n",
       "  <tbody>\n",
       "    <tr>\n",
       "      <th>0</th>\n",
       "      <td>carat</td>\n",
       "      <td>1.112878e+12</td>\n",
       "      <td>1.000000</td>\n",
       "      <td>0.897978</td>\n",
       "    </tr>\n",
       "    <tr>\n",
       "      <th>1</th>\n",
       "      <td>clarity</td>\n",
       "      <td>8.275630e+10</td>\n",
       "      <td>0.074362</td>\n",
       "      <td>0.066776</td>\n",
       "    </tr>\n",
       "    <tr>\n",
       "      <th>2</th>\n",
       "      <td>color</td>\n",
       "      <td>3.969792e+10</td>\n",
       "      <td>0.035671</td>\n",
       "      <td>0.032032</td>\n",
       "    </tr>\n",
       "    <tr>\n",
       "      <th>3</th>\n",
       "      <td>cut</td>\n",
       "      <td>3.983845e+09</td>\n",
       "      <td>0.003580</td>\n",
       "      <td>0.003215</td>\n",
       "    </tr>\n",
       "  </tbody>\n",
       "</table>\n",
       "</div>"
      ],
      "text/plain": [
       "  variable  relative_importance  scaled_importance  percentage\n",
       "0    carat         1.112878e+12           1.000000    0.897978\n",
       "1  clarity         8.275630e+10           0.074362    0.066776\n",
       "2    color         3.969792e+10           0.035671    0.032032\n",
       "3      cut         3.983845e+09           0.003580    0.003215"
      ]
     },
     "metadata": {},
     "output_type": "display_data"
    },
    {
     "data": {
      "text/plain": []
     },
     "execution_count": 27,
     "metadata": {},
     "output_type": "execute_result"
    }
   ],
   "source": [
    "train = h2o.H2OFrame(diamons_n)\n",
    "test = h2o.H2OFrame(Xpr_test)\n",
    "# Input parameters that are going to train\n",
    "training_columns = ['carat', 'cut', 'color','clarity']\n",
    "response_column = 'price'\n",
    "gbm = H2OXGBoostEstimator()\n",
    "gbm.train(x=training_columns, y=response_column, training_frame=train)\n",
    "y_pred2 = gbm.predict(test)\n",
    "gbm"
   ]
  },
  {
   "cell_type": "code",
   "execution_count": 29,
   "metadata": {},
   "outputs": [
    {
     "name": "stdout",
     "output_type": "stream",
     "text": [
      "Export File progress: |███████████████████████████████████████████████████| 100%\n"
     ]
    }
   ],
   "source": [
    "final = y_pred2.rename(columns={'predict':'price'})\n",
    "h2o.export_file(final, 'submission3.csv')"
   ]
  },
  {
   "cell_type": "code",
   "execution_count": 30,
   "metadata": {},
   "outputs": [],
   "source": [
    "diamons_s = pd.read_csv('submission3.csv')\n",
    "diamons_final = diamons_s.reset_index().rename(columns={'index':'id'})\n",
    "diamons_final.to_csv('OUTPUT/final_h20.csv',index=False)"
   ]
  }
 ],
 "metadata": {
  "kernelspec": {
   "display_name": "Python 3",
   "language": "python",
   "name": "python3"
  },
  "language_info": {
   "codemirror_mode": {
    "name": "ipython",
    "version": 3
   },
   "file_extension": ".py",
   "mimetype": "text/x-python",
   "name": "python",
   "nbconvert_exporter": "python",
   "pygments_lexer": "ipython3",
   "version": "3.7.5"
  }
 },
 "nbformat": 4,
 "nbformat_minor": 4
}
